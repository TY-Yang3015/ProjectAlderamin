{
 "cells": [
  {
   "cell_type": "code",
   "id": "initial_id",
   "metadata": {
    "collapsed": true,
    "ExecuteTime": {
     "end_time": "2024-09-07T14:39:17.987817Z",
     "start_time": "2024-09-07T14:39:17.979054Z"
    }
   },
   "source": "import periodictable as pdb",
   "outputs": [],
   "execution_count": 2
  },
  {
   "metadata": {
    "ExecuteTime": {
     "end_time": "2024-09-07T14:39:18.223247Z",
     "start_time": "2024-09-07T14:39:18.221167Z"
    }
   },
   "cell_type": "code",
   "source": "element = pdb.elements.symbol('H')",
   "id": "6fead726681b3814",
   "outputs": [],
   "execution_count": 3
  },
  {
   "metadata": {
    "ExecuteTime": {
     "end_time": "2024-09-07T14:41:06.489300Z",
     "start_time": "2024-09-07T14:41:06.487058Z"
    }
   },
   "cell_type": "code",
   "source": "element.mass",
   "id": "7f5148fc707f8acd",
   "outputs": [
    {
     "data": {
      "text/plain": [
       "1.00794"
      ]
     },
     "execution_count": 6,
     "metadata": {},
     "output_type": "execute_result"
    }
   ],
   "execution_count": 6
  },
  {
   "metadata": {
    "ExecuteTime": {
     "end_time": "2024-09-07T10:43:39.398367Z",
     "start_time": "2024-09-07T10:43:39.151372Z"
    }
   },
   "cell_type": "code",
   "source": "import optax_shampoo",
   "id": "89149466e832139f",
   "outputs": [],
   "execution_count": 1
  },
  {
   "metadata": {
    "ExecuteTime": {
     "end_time": "2024-09-08T06:53:56.732442Z",
     "start_time": "2024-09-08T06:53:56.554623Z"
    }
   },
   "cell_type": "code",
   "source": "optax_shampoo.shampoo()",
   "id": "424149592fd4162c",
   "outputs": [
    {
     "ename": "NameError",
     "evalue": "name 'optax_shampoo' is not defined",
     "output_type": "error",
     "traceback": [
      "\u001B[0;31m---------------------------------------------------------------------------\u001B[0m",
      "\u001B[0;31mNameError\u001B[0m                                 Traceback (most recent call last)",
      "Cell \u001B[0;32mIn[1], line 1\u001B[0m\n\u001B[0;32m----> 1\u001B[0m \u001B[43moptax_shampoo\u001B[49m\u001B[38;5;241m.\u001B[39mshampoo()\n",
      "\u001B[0;31mNameError\u001B[0m: name 'optax_shampoo' is not defined"
     ]
    }
   ],
   "execution_count": 1
  },
  {
   "metadata": {
    "ExecuteTime": {
     "end_time": "2024-09-08T06:54:31.588284Z",
     "start_time": "2024-09-08T06:54:31.585613Z"
    }
   },
   "cell_type": "code",
   "source": [
    "import numpy as np\n",
    "\n",
    "np.log(1e-90 + 2)"
   ],
   "id": "d67b68abd5bcb249",
   "outputs": [
    {
     "data": {
      "text/plain": [
       "0.6931471805599453"
      ]
     },
     "execution_count": 5,
     "metadata": {},
     "output_type": "execute_result"
    }
   ],
   "execution_count": 5
  },
  {
   "metadata": {
    "ExecuteTime": {
     "end_time": "2024-09-08T10:11:43.847927Z",
     "start_time": "2024-09-08T10:11:43.823044Z"
    }
   },
   "cell_type": "code",
   "source": [
    "import numpy as np\n",
    "\n",
    "a = np.ones((4096, 5, 30))\n",
    "b = np.ones((6, 30, 5))\n",
    "\n",
    "\n",
    "result = np.einsum('bip,kpj->bkij', a, b)\n",
    "print(result.shape)\n",
    "\n",
    "c = np.ones((6, 5, 5))\n",
    "\n",
    "d = np.einsum('bkij,kij->bk', result, c)\n",
    "print(d.shape)\n",
    "\n",
    "final = np.sum(d, axis=-1)\n",
    "print(final.shape)"
   ],
   "id": "5ec4cee5100bc0e3",
   "outputs": [
    {
     "name": "stdout",
     "output_type": "stream",
     "text": [
      "(4096, 6, 5, 5)\n",
      "(4096, 6)\n",
      "(4096,)\n"
     ]
    }
   ],
   "execution_count": 28
  },
  {
   "metadata": {
    "ExecuteTime": {
     "end_time": "2024-09-08T11:23:53.724058Z",
     "start_time": "2024-09-08T11:23:45.275137Z"
    }
   },
   "cell_type": "code",
   "source": [
    "%%timeit \n",
    "a = np.ones((4096, 20, 100)) * 113514"
   ],
   "id": "8b18b39ea88320d1",
   "outputs": [
    {
     "name": "stdout",
     "output_type": "stream",
     "text": [
      "10.4 ms ± 72 μs per loop (mean ± std. dev. of 7 runs, 100 loops each)\n"
     ]
    }
   ],
   "execution_count": 33
  },
  {
   "metadata": {
    "ExecuteTime": {
     "end_time": "2024-09-08T11:24:25.876580Z",
     "start_time": "2024-09-08T11:24:12.211700Z"
    }
   },
   "cell_type": "code",
   "source": [
    "%%timeit \n",
    "a = np.ones((4096, 5, 25)) * 113514"
   ],
   "id": "19b0906aa5ac2174",
   "outputs": [
    {
     "name": "stdout",
     "output_type": "stream",
     "text": [
      "168 μs ± 433 ns per loop (mean ± std. dev. of 7 runs, 10,000 loops each)\n"
     ]
    }
   ],
   "execution_count": 34
  },
  {
   "metadata": {
    "ExecuteTime": {
     "end_time": "2024-09-08T16:30:49.939987Z",
     "start_time": "2024-09-08T16:30:49.936780Z"
    }
   },
   "cell_type": "code",
   "source": [
    "a = [2]\n",
    "b =[1]\n",
    "\n",
    "a.extend(b)\n",
    "\n",
    "a"
   ],
   "id": "45dd7ef1766ad6ea",
   "outputs": [
    {
     "data": {
      "text/plain": [
       "[2, 1]"
      ]
     },
     "execution_count": 2,
     "metadata": {},
     "output_type": "execute_result"
    }
   ],
   "execution_count": 2
  },
  {
   "metadata": {},
   "cell_type": "code",
   "outputs": [],
   "execution_count": null,
   "source": "",
   "id": "c7567a5cb4082c75"
  }
 ],
 "metadata": {
  "kernelspec": {
   "display_name": "Python 3",
   "language": "python",
   "name": "python3"
  },
  "language_info": {
   "codemirror_mode": {
    "name": "ipython",
    "version": 2
   },
   "file_extension": ".py",
   "mimetype": "text/x-python",
   "name": "python",
   "nbconvert_exporter": "python",
   "pygments_lexer": "ipython2",
   "version": "2.7.6"
  }
 },
 "nbformat": 4,
 "nbformat_minor": 5
}
